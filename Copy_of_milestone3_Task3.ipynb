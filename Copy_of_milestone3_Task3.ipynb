{
  "nbformat": 4,
  "nbformat_minor": 0,
  "metadata": {
    "colab": {
      "provenance": [],
      "authorship_tag": "ABX9TyMvMwFDsqS8Za6pQQwH3bXE",
      "include_colab_link": true
    },
    "kernelspec": {
      "name": "python3",
      "display_name": "Python 3"
    },
    "language_info": {
      "name": "python"
    }
  },
  "cells": [
    {
      "cell_type": "markdown",
      "metadata": {
        "id": "view-in-github",
        "colab_type": "text"
      },
      "source": [
        "<a href=\"https://colab.research.google.com/github/JesusAs2019/Adonai-beam/blob/master/Copy_of_milestone3_Task3.ipynb\" target=\"_parent\"><img src=\"https://colab.research.google.com/assets/colab-badge.svg\" alt=\"Open In Colab\"/></a>"
      ]
    },
    {
      "cell_type": "code",
      "execution_count": 9,
      "metadata": {
        "id": "6ACY5kkl3IFS"
      },
      "outputs": [],
      "source": [
        "\n",
        "\n",
        "#Milestone 3: TASK 3\n",
        "      ## Good job so far!\n",
        "# But your code probably doesn't look great.\n",
        "# It's hard to tell which lines do what.\n",
        "# Create 2 functions, check_guess and ask_for_input functions which contain the code for those two things.\n",
        "\n",
        "## The check_guess function will take the guessed letter as an argument and check if the letter is in the word.\n",
        "\n",
        "import random\n",
        "\n",
        "\n",
        "def check_guess():\n",
        "    word_list = ['Apple', 'Banana', 'Orange', 'Mango', 'Pear']\n",
        "    word = random.choice(word_list)\n",
        "    word_guess = guess\n",
        "\n",
        "    print(list(map(lambda x: x.lower(), word_list)))\n",
        "    print(word)\n",
        "    guess =input(\"Enter a single letter: \").lower()\n",
        "    if guess in word:\n",
        "       print(\"Good guess!\", {guess} , \"is in the word.\")\n",
        "    else:\n",
        "      print(\"Sorry!\", {guess}, \"is not in the word. Try again.\")\n",
        "      return check_guess()\n",
        "def ask_for_input():\n",
        "    while True:\n",
        "         guess =input(\"Enter a single letter: \").lower()\n",
        "         guess_length = len(guess)\n",
        "         if guess_length == 1 and guess.isalpha():\n",
        "           print(guess_length)\n",
        "           print(guess)\n",
        "         else:\n",
        "            print(\"Invalid letter. Please, enter a single alphabetical character.\")\n",
        "            break\n",
        ""
      ]
    },
    {
      "cell_type": "code",
      "source": [
        "check_guess()\n",
        "ask_for_input()"
      ],
      "metadata": {
        "id": "lzu0Zew63SCS"
      },
      "execution_count": null,
      "outputs": []
    },
    {
      "cell_type": "code",
      "source": [
        "def ask_for_input():\n",
        "\n",
        "    while True:\n",
        "         guess =input(\"Enter a single letter: \").lower()\n",
        "         guess_length = len(guess)\n",
        "         if guess_length == 1 and guess.isalpha():\n",
        "           print(guess_length)\n",
        "           print(guess)\n",
        "         else:\n",
        "            print(\"Invalid letter. Please, enter a single alphabetical character.\")\n",
        "            break"
      ],
      "metadata": {
        "id": "5vWBMtEb4dX4"
      },
      "execution_count": 30,
      "outputs": []
    },
    {
      "cell_type": "code",
      "source": [
        "ask_for_input()"
      ],
      "metadata": {
        "id": "yu14u_Va6cbm"
      },
      "execution_count": null,
      "outputs": []
    },
    {
      "cell_type": "code",
      "source": [
        "#Milestone 3: TASK 3\n",
        "import random\n",
        "\n",
        "def check_guess():\n",
        "    word_list = ['Apple', 'Banana', 'Orange', 'Mango', 'Pear']\n",
        "    word = random.choice(word_list)\n",
        "    guess =input(\"Enter a single letter: \").lower()\n",
        "    print(list(map(lambda x: x.lower(), word_list)))\n",
        "\n",
        "    if guess in word:\n",
        "       print(\"Good guess!\", {guess} , \"is in the word.\")\n",
        "       print(word)\n",
        "    else:\n",
        "      print(\"Sorry!\", {guess}, \"is not in the word. Try again.\")\n",
        "      return check_guess()\n",
        "def ask_for_input():\n",
        "\n",
        "    while True:\n",
        "         guess =input(\"Enter a single letter: \").lower()\n",
        "         guess_length = len(guess)\n",
        "         if guess_length == 1 and guess.isalpha():\n",
        "           print(guess_length)\n",
        "           print(guess)\n",
        "         else:\n",
        "            print(\"Invalid letter. Please, enter a single alphabetical character.\")\n",
        "         break\n",
        "         return check_guess()\n",
        "         return ask_for_input()\n",
        "         break"
      ],
      "metadata": {
        "id": "BCZaMdxe9Tri"
      },
      "execution_count": 42,
      "outputs": []
    },
    {
      "cell_type": "code",
      "source": [
        "ask_for_input()\n",
        "check_guess()"
      ],
      "metadata": {
        "id": "_ceO1n-49bDA"
      },
      "execution_count": null,
      "outputs": []
    }
  ]
}